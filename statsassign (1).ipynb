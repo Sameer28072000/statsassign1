{
 "cells": [
  {
   "cell_type": "markdown",
   "id": "b25d5b4a-1159-4783-9b3f-e40bb19efafc",
   "metadata": {},
   "source": [
    "Q1. What are the three measures of central tendency?"
   ]
  },
  {
   "cell_type": "code",
   "execution_count": null,
   "id": "bd05aee2-56ff-409b-9b82-780993c4d5ad",
   "metadata": {},
   "outputs": [],
   "source": [
    "Ans:-The measures of central Tendency are mean,mode & median."
   ]
  },
  {
   "cell_type": "markdown",
   "id": "d4922ace-aad3-475e-95b4-5e24d7f27f7f",
   "metadata": {},
   "source": [
    "Q2. What is the difference between the mean, median, and mode? How are they used to measure the\n",
    "central tendency of a dataset?"
   ]
  },
  {
   "cell_type": "code",
   "execution_count": null,
   "id": "a3402d7a-2a94-441b-bdce-db2c5f245bcf",
   "metadata": {},
   "outputs": [],
   "source": [
    "Ans:-\n",
    "i.mean------>Often called as Average of the data series .\n",
    "ii.mode------>It is the number occurs most frequently in the data series.\n",
    "iii.median------>It is nothing but the absolute central value of the data.\n",
    "\n",
    "mean,mode & median are lies at the centre of the distribution is called as central tendency."
   ]
  },
  {
   "cell_type": "markdown",
   "id": "05fc8fbd-ffb0-4769-9d4c-93a357700ecc",
   "metadata": {},
   "source": [
    "Q3. Measure the three measures of central tendency for the given height data:\n",
    "[178,177,176,177,178.2,178,175,179,180,175,178.9,176.2,177,172.5,178,176.5]"
   ]
  },
  {
   "cell_type": "code",
   "execution_count": null,
   "id": "27e76ce5-686d-491f-ab60-8d9c0dde6951",
   "metadata": {},
   "outputs": [],
   "source": [
    "Ans:-\n",
    "i.mean------>177.01875\n",
    "ii.mode------>177\n",
    "iii.median------>177.0"
   ]
  },
  {
   "cell_type": "markdown",
   "id": "883b7c0c-87c1-494c-bfc1-c09e608c74b9",
   "metadata": {},
   "source": [
    "Q4. Find the standard deviation for the given data:\n",
    "[178,177,176,177,178.2,178,175,179,180,175,178.9,176.2,177,172.5,178,176.5]"
   ]
  },
  {
   "cell_type": "markdown",
   "id": "92d537fc-f1f5-4044-9d61-debfb487efaf",
   "metadata": {},
   "source": [
    "Ans:- Standard Deviation------>1.7885814036548633"
   ]
  },
  {
   "cell_type": "markdown",
   "id": "f8ae949e-f02b-47ae-8313-e3d1351ed35b",
   "metadata": {},
   "source": [
    "Q5. How are measures of dispersion such as range, variance, and standard deviation used to describe\n",
    "the spread of a dataset? Provide an example."
   ]
  },
  {
   "cell_type": "code",
   "execution_count": null,
   "id": "5a8cf1f3-fb50-484e-9c83-173a37c87b81",
   "metadata": {},
   "outputs": [],
   "source": [
    "Ans:-\n",
    "[178,177,176,177,178.2,178,175,179,180,175,178.9,176.2,177,172.5,178,176.5]\n",
    "\n",
    "i.Range----->(Max.-Min)=(180-172.5)=7.5\n",
    "ii.Variance------>3.199023437500001\n",
    "iii.standard deviation------>1.7885814036548633"
   ]
  },
  {
   "cell_type": "markdown",
   "id": "d98f66f1-f1ec-470e-afc0-b1ad2c9b41f5",
   "metadata": {},
   "source": [
    "Q6. What is a Venn diagram?"
   ]
  },
  {
   "cell_type": "code",
   "execution_count": null,
   "id": "02424ebe-8805-4df4-87ce-f18daae899c0",
   "metadata": {},
   "outputs": [],
   "source": [
    "Ans:-It is type of diagram to overlap the circle when some relation between them."
   ]
  },
  {
   "cell_type": "markdown",
   "id": "dd11f30b-f2ac-4891-81ce-19b3830caaa9",
   "metadata": {},
   "source": [
    "Q7. For the two given sets A = (2,3,4,5,6,7) & B = (0,2,6,8,10). Find:\n",
    "(i) A intersection B\n",
    "(ii) A ⋃ B"
   ]
  },
  {
   "cell_type": "code",
   "execution_count": null,
   "id": "4853bf00-d1c0-485c-99c0-2e09af712983",
   "metadata": {},
   "outputs": [],
   "source": [
    "Ans:-\n",
    "i.A intersection B------>2,6\n",
    "ii.A U B------->0,2,3,4,5,6,7,8,10"
   ]
  },
  {
   "cell_type": "markdown",
   "id": "725eb27f-070a-4c96-9c70-0bd6e819c7c3",
   "metadata": {},
   "source": [
    "Q8. What do you understand about skewness in data?"
   ]
  },
  {
   "cell_type": "code",
   "execution_count": null,
   "id": "517eba80-209d-4867-b195-39a96d012dec",
   "metadata": {},
   "outputs": [],
   "source": [
    "Ans:-\n",
    "i.Left Skewness----->mean < median < mode\n",
    "ii.Right Skewness---->mode < median < mean"
   ]
  },
  {
   "cell_type": "markdown",
   "id": "8532e25d-12b3-4c53-a021-1678a1ce64b8",
   "metadata": {},
   "source": [
    "Q9. If a data is right skewed then what will be the position of median with respect to mean?"
   ]
  },
  {
   "cell_type": "code",
   "execution_count": null,
   "id": "429d4544-4da5-45bd-8685-35c3b742f33c",
   "metadata": {},
   "outputs": [],
   "source": [
    "Ans:- the position of median with respect to mean (meadian < mean)"
   ]
  },
  {
   "cell_type": "markdown",
   "id": "8ca010e1-de00-4874-9cb0-1b8dcfa3629d",
   "metadata": {},
   "source": [
    "Q10. Explain the difference between covariance and correlation. How are these measures used in\n",
    "statistical analysis?"
   ]
  },
  {
   "cell_type": "code",
   "execution_count": null,
   "id": "1f658ef6-2477-4e1f-a6b9-093453c9e0e4",
   "metadata": {},
   "outputs": [],
   "source": [
    "Ans:-\n",
    "covariance and correlation------>Relation between X & Y\n",
    "\n",
    "Correlation in statistic measure we called as covarience\n",
    "+ve covariance and correlation------> 0 to 1\n",
    "-ve covariance and correlation-------> -1 to 0\n",
    "no  covariance and correlation-------> 0"
   ]
  },
  {
   "cell_type": "markdown",
   "id": "f45a3416-78d3-4150-a4d4-13d07608e9d4",
   "metadata": {},
   "source": [
    "Q11. What is the formula for calculating the sample mean? Provide an example calculation for a\n",
    "dataset."
   ]
  }
 ],
 "metadata": {
  "kernelspec": {
   "display_name": "Python 3 (ipykernel)",
   "language": "python",
   "name": "python3"
  },
  "language_info": {
   "codemirror_mode": {
    "name": "ipython",
    "version": 3
   },
   "file_extension": ".py",
   "mimetype": "text/x-python",
   "name": "python",
   "nbconvert_exporter": "python",
   "pygments_lexer": "ipython3",
   "version": "3.10.8"
  }
 },
 "nbformat": 4,
 "nbformat_minor": 5
}
